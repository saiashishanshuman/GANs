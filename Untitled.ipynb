{
 "cells": [
  {
   "cell_type": "code",
   "execution_count": 12,
   "id": "f275dd1f",
   "metadata": {},
   "outputs": [
    {
     "name": "stdout",
     "output_type": "stream",
     "text": [
      "Tue Sep 19 16:18:43 2023       \n",
      "+---------------------------------------------------------------------------------------+\n",
      "| NVIDIA-SMI 537.34                 Driver Version: 537.34       CUDA Version: 12.2     |\n",
      "|-----------------------------------------+----------------------+----------------------+\n",
      "| GPU  Name                     TCC/WDDM  | Bus-Id        Disp.A | Volatile Uncorr. ECC |\n",
      "| Fan  Temp   Perf          Pwr:Usage/Cap |         Memory-Usage | GPU-Util  Compute M. |\n",
      "|                                         |                      |               MIG M. |\n",
      "|=========================================+======================+======================|\n",
      "|   0  NVIDIA GeForce GTX 1650 Ti   WDDM  | 00000000:01:00.0 Off |                  N/A |\n",
      "| N/A   42C    P8               1W /  50W |    176MiB /  4096MiB |      0%      Default |\n",
      "|                                         |                      |                  N/A |\n",
      "+-----------------------------------------+----------------------+----------------------+\n",
      "                                                                                         \n",
      "+---------------------------------------------------------------------------------------+\n",
      "| Processes:                                                                            |\n",
      "|  GPU   GI   CI        PID   Type   Process name                            GPU Memory |\n",
      "|        ID   ID                                                             Usage      |\n",
      "|=======================================================================================|\n",
      "|    0   N/A  N/A     13172      C   C:\\Users\\SAI\\anaconda3\\python.exe         N/A      |\n",
      "+---------------------------------------------------------------------------------------+\n"
     ]
    }
   ],
   "source": [
    "!nvidia-smi"
   ]
  },
  {
   "cell_type": "code",
   "execution_count": 1,
   "id": "c455b013",
   "metadata": {},
   "outputs": [],
   "source": [
    "import tensorflow_datasets as tfds\n",
    "import tensorflow as tf"
   ]
  },
  {
   "cell_type": "code",
   "execution_count": 2,
   "id": "943940ce",
   "metadata": {},
   "outputs": [],
   "source": [
    "gpus = tf.config.list_physical_devices('GPU')\n",
    "for gpu in gpus:\n",
    "    tf.config.experimental.set_memory_growth(gpu, True)"
   ]
  },
  {
   "cell_type": "code",
   "execution_count": 3,
   "id": "dbe4d431",
   "metadata": {},
   "outputs": [],
   "source": [
    "ds = tfds.load('fashion_mnist', split = 'train')"
   ]
  },
  {
   "cell_type": "code",
   "execution_count": null,
   "id": "c8b73cf5",
   "metadata": {},
   "outputs": [],
   "source": []
  },
  {
   "cell_type": "code",
   "execution_count": null,
   "id": "4cace0a9",
   "metadata": {},
   "outputs": [],
   "source": []
  },
  {
   "cell_type": "code",
   "execution_count": 4,
   "id": "cbea46fd",
   "metadata": {},
   "outputs": [],
   "source": [
    "import numpy as np\n",
    "import matplotlib.pyplot as plt"
   ]
  },
  {
   "cell_type": "code",
   "execution_count": 5,
   "id": "71141516",
   "metadata": {},
   "outputs": [],
   "source": [
    "dataiterator = ds.as_numpy_iterator()"
   ]
  },
  {
   "cell_type": "code",
   "execution_count": 6,
   "id": "548ccfb1",
   "metadata": {},
   "outputs": [
    {
     "data": {
      "image/png": "[encoded data removed]",
      "text/plain": [
       "<Figure size 2000x2000 with 4 Axes>"
      ]
     },
     "metadata": {},
     "output_type": "display_data"
    }
   ],
   "source": [
    "fig,ax = plt.subplots(ncols=4, figsize=(20,20))\n",
    "for idx in range(4):\n",
    "    sample = dataiterator.next()\n",
    "    ax[idx].imshow(np.squeeze(sample['image']))\n",
    "    ax[idx].title.set_text(sample['label'])"
   ]
  },
  {
   "cell_type": "code",
   "execution_count": 7,
   "id": "fefa82ef",
   "metadata": {},
   "outputs": [],
   "source": [
    "def scale_images(data):\n",
    "    image = data['image']\n",
    "    return image/255"
   ]
  },
  {
   "cell_type": "code",
   "execution_count": 8,
   "id": "25f81ea3",
   "metadata": {},
   "outputs": [],
   "source": [
    "#map\n",
    "ds = ds.map(scale_images)\n",
    "#cache\n",
    "ds = ds.cache()\n",
    "#shuffle\n",
    "ds = ds.shuffle(60000)\n",
    "#batch\n",
    "ds = ds.batch(128)\n",
    "#prefetch\n",
    "ds = ds.prefetch(64)"
   ]
  },
  {
   "cell_type": "code",
   "execution_count": 9,
   "id": "34c1fa40",
   "metadata": {},
   "outputs": [
    {
     "data": {
      "text/plain": [
       "(128, 28, 28, 1)"
      ]
     },
     "execution_count": 9,
     "metadata": {},
     "output_type": "execute_result"
    }
   ],
   "source": [
    "ds.as_numpy_iterator().next().shape"
   ]
  },
  {
   "cell_type": "code",
   "execution_count": 10,
   "id": "88987503",
   "metadata": {},
   "outputs": [],
   "source": [
    "from tensorflow.keras.models import Sequential\n",
    "from tensorflow.keras.layers import Conv2D, Dense, Flatten, Reshape, LeakyReLU, Dropout, UpSampling2D"
   ]
  },
  {
   "cell_type": "code",
   "execution_count": 11,
   "id": "e26c928f",
   "metadata": {},
   "outputs": [],
   "source": [
    "def build_generator():\n",
    "\n",
    "    #Takes in random values and reshapes it to 7*7*128\n",
    "    model = Sequential()\n",
    "    model.add(Dense(7*7*128, input_dim=128))\n",
    "    model.add(LeakyReLU(0.2))\n",
    "    model.add(Reshape((7,7,128)))\n",
    "\n",
    "    #Upsampling block 1\n",
    "    model.add(UpSampling2D())\n",
    "    model.add(Conv2D(128,5,padding='same'))\n",
    "    model.add(LeakyReLU(0.2))\n",
    "\n",
    "    #Upsampling block 2\n",
    "    model.add(UpSampling2D())\n",
    "    model.add(Conv2D(128,5,padding='same'))\n",
    "    model.add(LeakyReLU(0.2))\n",
    "\n",
    "    #Dawnsampling\n",
    "    model.add(Conv2D(128,4,padding='same'))\n",
    "    model.add(LeakyReLU(0.2))\n",
    "\n",
    "    #Dawnsampling\n",
    "    model.add(Conv2D(128,4,padding='same'))\n",
    "    model.add(LeakyReLU(0.2))\n",
    "\n",
    "    #Downsampling\n",
    "    model.add(Conv2D(1,4, padding='same', activation='sigmoid'))\n",
    "\n",
    "    return model"
   ]
  },
  {
   "cell_type": "code",
   "execution_count": 12,
   "id": "73b03d6d",
   "metadata": {},
   "outputs": [
    {
     "name": "stdout",
     "output_type": "stream",
     "text": [
      "Model: \"sequential\"\n",
      "_________________________________________________________________\n",
      " Layer (type)                Output Shape              Param #   \n",
      "=================================================================\n",
      " dense (Dense)               (None, 6272)              809088    \n",
      "                                                                 \n",
      " leaky_re_lu (LeakyReLU)     (None, 6272)              0         \n",
      "                                                                 \n",
      " reshape (Reshape)           (None, 7, 7, 128)         0         \n",
      "                                                                 \n",
      " up_sampling2d (UpSampling2D  (None, 14, 14, 128)      0         \n",
      " )                                                               \n",
      "                                                                 \n",
      " conv2d (Conv2D)             (None, 14, 14, 128)       409728    \n",
      "                                                                 \n",
      " leaky_re_lu_1 (LeakyReLU)   (None, 14, 14, 128)       0         \n",
      "                                                                 \n",
      " up_sampling2d_1 (UpSampling  (None, 28, 28, 128)      0         \n",
      " 2D)                                                             \n",
      "                                                                 \n",
      " conv2d_1 (Conv2D)           (None, 28, 28, 128)       409728    \n",
      "                                                                 \n",
      " leaky_re_lu_2 (LeakyReLU)   (None, 28, 28, 128)       0         \n",
      "                                                                 \n",
      " conv2d_2 (Conv2D)           (None, 28, 28, 128)       262272    \n",
      "                                                                 \n",
      " leaky_re_lu_3 (LeakyReLU)   (None, 28, 28, 128)       0         \n",
      "                                                                 \n",
      " conv2d_3 (Conv2D)           (None, 28, 28, 128)       262272    \n",
      "                                                                 \n",
      " leaky_re_lu_4 (LeakyReLU)   (None, 28, 28, 128)       0         \n",
      "                                                                 \n",
      " conv2d_4 (Conv2D)           (None, 28, 28, 1)         2049      \n",
      "                                                                 \n",
      "=================================================================\n",
      "Total params: 2,155,137\n",
      "Trainable params: 2,155,137\n",
      "Non-trainable params: 0\n",
      "_________________________________________________________________\n"
     ]
    }
   ],
   "source": [
    "test_model = build_generator()\n",
    "test_model.summary()"
   ]
  },
  {
   "cell_type": "code",
   "execution_count": 66,
   "id": "8de4b445",
   "metadata": {},
   "outputs": [],
   "source": [
    "generator = build_generator()"
   ]
  },
  {
   "cell_type": "code",
   "execution_count": 14,
   "id": "c102d08e",
   "metadata": {},
   "outputs": [
    {
     "name": "stdout",
     "output_type": "stream",
     "text": [
      "1/1 [==============================] - 5s 5s/step\n"
     ]
    }
   ],
   "source": [
    "img = generator.predict(np.random.randn(4,128,1))"
   ]
  },
  {
   "cell_type": "code",
   "execution_count": 15,
   "id": "37cae954",
   "metadata": {},
   "outputs": [
    {
     "data": {
      "text/plain": [
       "<matplotlib.image.AxesImage at 0x1df53fe7850>"
      ]
     },
     "execution_count": 15,
     "metadata": {},
     "output_type": "execute_result"
    },
    {
     "data": {
      "image/png": "[encoded data removed]",
      "text/plain": [
       "<Figure size 640x480 with 1 Axes>"
      ]
     },
     "metadata": {},
     "output_type": "display_data"
    }
   ],
   "source": [
    "plt.imshow(np.squeeze(img[0]))"
   ]
  },
  {
   "cell_type": "code",
   "execution_count": 16,
   "id": "50fb2dfb",
   "metadata": {},
   "outputs": [],
   "source": [
    "from tensorflow.python.ops.gen_nn_ops import LeakyRelu\n",
    "def model_discriminator():\n",
    "  model = Sequential()\n",
    "\n",
    "  model.add(Conv2D(32,5, input_shape = (28,28,1)))\n",
    "  model.add(LeakyReLU(0.2))\n",
    "  model.add(Dropout(0.4))\n",
    "\n",
    "  model.add(Conv2D(64,5))\n",
    "  model.add(LeakyReLU(0.2))\n",
    "  model.add(Dropout(0.4))\n",
    "\n",
    "  model.add(Conv2D(128,5))\n",
    "  model.add(LeakyReLU(0.2))\n",
    "  model.add(Dropout(0.4))\n",
    "\n",
    "  model.add(Conv2D(256,5))\n",
    "  model.add(LeakyReLU(0.2))\n",
    "  model.add(Dropout(0.4))\n",
    "\n",
    "  model.add(Flatten())\n",
    "  model.add(Dropout(0.4))\n",
    "  model.add(Dense(1,activation='sigmoid'))\n",
    "\n",
    "\n",
    "  return model"
   ]
  },
  {
   "cell_type": "code",
   "execution_count": 67,
   "id": "6cc4b71c",
   "metadata": {},
   "outputs": [
    {
     "name": "stdout",
     "output_type": "stream",
     "text": [
      "Model: \"sequential_7\"\n",
      "_________________________________________________________________\n",
      " Layer (type)                Output Shape              Param #   \n",
      "=================================================================\n",
      " conv2d_32 (Conv2D)          (None, 24, 24, 32)        832       \n",
      "                                                                 \n",
      " leaky_re_lu_32 (LeakyReLU)  (None, 24, 24, 32)        0         \n",
      "                                                                 \n",
      " dropout_15 (Dropout)        (None, 24, 24, 32)        0         \n",
      "                                                                 \n",
      " conv2d_33 (Conv2D)          (None, 20, 20, 64)        51264     \n",
      "                                                                 \n",
      " leaky_re_lu_33 (LeakyReLU)  (None, 20, 20, 64)        0         \n",
      "                                                                 \n",
      " dropout_16 (Dropout)        (None, 20, 20, 64)        0         \n",
      "                                                                 \n",
      " conv2d_34 (Conv2D)          (None, 16, 16, 128)       204928    \n",
      "                                                                 \n",
      " leaky_re_lu_34 (LeakyReLU)  (None, 16, 16, 128)       0         \n",
      "                                                                 \n",
      " dropout_17 (Dropout)        (None, 16, 16, 128)       0         \n",
      "                                                                 \n",
      " conv2d_35 (Conv2D)          (None, 12, 12, 256)       819456    \n",
      "                                                                 \n",
      " leaky_re_lu_35 (LeakyReLU)  (None, 12, 12, 256)       0         \n",
      "                                                                 \n",
      " dropout_18 (Dropout)        (None, 12, 12, 256)       0         \n",
      "                                                                 \n",
      " flatten_3 (Flatten)         (None, 36864)             0         \n",
      "                                                                 \n",
      " dropout_19 (Dropout)        (None, 36864)             0         \n",
      "                                                                 \n",
      " dense_7 (Dense)             (None, 1)                 36865     \n",
      "                                                                 \n",
      "=================================================================\n",
      "Total params: 1,113,345\n",
      "Trainable params: 1,113,345\n",
      "Non-trainable params: 0\n",
      "_________________________________________________________________\n"
     ]
    }
   ],
   "source": [
    "discriminator = model_discriminator()\n",
    "discriminator.summary()"
   ]
  },
  {
   "cell_type": "code",
   "execution_count": 49,
   "id": "5774c317",
   "metadata": {},
   "outputs": [
    {
     "name": "stdout",
     "output_type": "stream",
     "text": [
      "1/1 [==============================] - 0s 88ms/step\n"
     ]
    },
    {
     "data": {
      "text/plain": [
       "array([[0.5005245 ],\n",
       "       [0.50043106],\n",
       "       [0.5002944 ],\n",
       "       [0.5003581 ]], dtype=float32)"
      ]
     },
     "execution_count": 49,
     "metadata": {},
     "output_type": "execute_result"
    }
   ],
   "source": [
    "discriminator.predict(img)"
   ]
  },
  {
   "cell_type": "code",
   "execution_count": 50,
   "id": "6c94173e",
   "metadata": {},
   "outputs": [],
   "source": [
    "from tensorflow.keras.optimizers import Adam\n",
    "from tensorflow.keras.losses import BinaryCrossentropy"
   ]
  },
  {
   "cell_type": "code",
   "execution_count": 51,
   "id": "5aeaaf06",
   "metadata": {},
   "outputs": [],
   "source": [
    "g_opt = Adam(learning_rate = 0.0001)\n",
    "d_opt = Adam(learning_rate = 0.00001)\n",
    "\n",
    "g_loss = BinaryCrossentropy()\n",
    "d_loss = BinaryCrossentropy()"
   ]
  },
  {
   "cell_type": "code",
   "execution_count": 68,
   "id": "f1b50e2e",
   "metadata": {},
   "outputs": [],
   "source": [
    "from tensorflow.keras.models import Model"
   ]
  },
  {
   "cell_type": "code",
   "execution_count": 69,
   "id": "190976fb",
   "metadata": {},
   "outputs": [],
   "source": [
    "class FashionGAN(Model):\n",
    "  def __init__(self, generator, discriminator, *args, **kwargs):\n",
    "    super().__init__(*args, **kwargs)\n",
    "\n",
    "    self.generator = generator\n",
    "    self.discriminator = discriminator\n",
    "\n",
    "  def compile(self, g_opt, d_opt, g_loss, d_loss, *args, **kwargs):\n",
    "    super().compile(*args, **kwargs)\n",
    "\n",
    "    self.g_opt = g_opt\n",
    "    self.d_opt = d_opt\n",
    "    self.g_loss = g_loss\n",
    "    self.d_loss = d_loss\n",
    "\n",
    "  def train_step(self, batch):\n",
    "    real_images = batch\n",
    "    fake_images = self.generator(tf.random.normal((128,128,1)), training = False)\n",
    "\n",
    "    with tf.GradientTape() as d_tape:\n",
    "      yhat_real = self.discriminator(real_images, training=True)\n",
    "      yhat_fake = self.discriminator(fake_images, training=True)\n",
    "      yhat_realfake = tf.concat([yhat_real, yhat_fake], axis=0)\n",
    "\n",
    "      y_realfake = tf.concat([tf.zeros_like(yhat_real), tf.ones_like(yhat_fake)], axis=0)\n",
    "\n",
    "      noise_real = 0.15*tf.random.uniform(tf.shape(yhat_real))\n",
    "      noise_fake = -0.15*tf.random.uniform(tf.shape(yhat_fake))\n",
    "      y_realfake += tf.concat([noise_real, noise_fake], axis=0)\n",
    "\n",
    "      total_d_loss = self.d_loss(y_realfake, yhat_realfake)\n",
    "\n",
    "    dgrad = d_tape.gradient(total_d_loss, self.discriminator.trainable_variables)\n",
    "    self.d_opt.apply_gradients(zip(dgrad, self.discriminator.trainable_variables))\n",
    "\n",
    "    with tf.GradientTape() as g_tape:\n",
    "      gen_images = self.generator(tf.random.normal((128,128,1)), training = True)\n",
    "\n",
    "      predicted_lables = self.discriminator(gen_images, training=False)\n",
    "\n",
    "      total_g_loss = self.g_loss(tf.zeros_like(predicted_lables), predicted_lables)\n",
    "\n",
    "\n",
    "    ggrad = g_tape.gradient(total_g_loss, self.generator.trainable_variables)\n",
    "    self.g_opt.apply_gradients(zip(ggrad, self.generator.trainable_variables))\n",
    "\n",
    "    return {\"d_loss\":total_d_loss, \"g_loss\":total_g_loss}"
   ]
  },
  {
   "cell_type": "code",
   "execution_count": 70,
   "id": "934952ff",
   "metadata": {},
   "outputs": [],
   "source": [
    "fashgan = FashionGAN(generator, discriminator)"
   ]
  },
  {
   "cell_type": "code",
   "execution_count": 71,
   "id": "56e78a82",
   "metadata": {},
   "outputs": [],
   "source": [
    "fashgan.compile(g_opt, d_opt, g_loss, d_loss)"
   ]
  },
  {
   "cell_type": "code",
   "execution_count": 72,
   "id": "5cd82768",
   "metadata": {},
   "outputs": [],
   "source": [
    "import os\n",
    "from tensorflow.keras.preprocessing.image import array_to_img\n",
    "from tensorflow.keras.callbacks import Callback"
   ]
  },
  {
   "cell_type": "code",
   "execution_count": 73,
   "id": "b63967cd",
   "metadata": {},
   "outputs": [],
   "source": [
    "class ModelMonitor(Callback):\n",
    "  def __init__(self,num_img=3, latent_dim=128):\n",
    "    self.num_img = num_img\n",
    "    self.latent_dim = latent_dim\n",
    "\n",
    "    def on_epoch_end(self, epoch, logs=None):\n",
    "        random_latent_vectors = tf.random.uniform((self.num_img, self.latent_dim,1))\n",
    "        generated_images = self.model.generator(random_latent_vectors)\n",
    "        generated_images *= 255\n",
    "        generated_images.numpy()\n",
    "        for i in range(self.num_img):\n",
    "            img = array_to_img(generated_images[i])\n",
    "            img.save(os.path.join('images', f'generated_img_{epoch}_{i}.png'))"
   ]
  },
  {
   "cell_type": "code",
   "execution_count": 94,
   "id": "905a27c7",
   "metadata": {},
   "outputs": [
    {
     "name": "stdout",
     "output_type": "stream",
     "text": [
      "Epoch 1/400\n",
      "  6/469 [..............................] - ETA: 1:36 - d_loss: 0.2670 - g_loss: 2.6338WARNING:tensorflow:Callback method `on_train_batch_end` is slow compared to the batch time (batch time: 0.0981s vs `on_train_batch_end` time: 0.1126s). Check your callbacks.\n"
     ]
    },
    {
     "name": "stderr",
     "output_type": "stream",
     "text": [
      "WARNING:tensorflow:Callback method `on_train_batch_end` is slow compared to the batch time (batch time: 0.0981s vs `on_train_batch_end` time: 0.1126s). Check your callbacks.\n"
     ]
    },
    {
     "name": "stdout",
     "output_type": "stream",
     "text": [
      "469/469 [==============================] - 100s 212ms/step - d_loss: 0.2664 - g_loss: 2.6175\n",
      "Epoch 2/400\n",
      "469/469 [==============================] - 99s 212ms/step - d_loss: 0.2661 - g_loss: 2.6125\n",
      "Epoch 3/400\n",
      "469/469 [==============================] - 99s 212ms/step - d_loss: 0.2661 - g_loss: 2.6170\n",
      "Epoch 4/400\n",
      "469/469 [==============================] - 100s 212ms/step - d_loss: 0.2667 - g_loss: 2.6041\n",
      "Epoch 5/400\n",
      "469/469 [==============================] - 100s 212ms/step - d_loss: 0.2668 - g_loss: 2.6073\n",
      "Epoch 6/400\n",
      "469/469 [==============================] - 100s 212ms/step - d_loss: 0.2667 - g_loss: 2.6091\n",
      "Epoch 7/400\n",
      "469/469 [==============================] - 100s 212ms/step - d_loss: 0.2668 - g_loss: 2.6048\n",
      "Epoch 8/400\n",
      "469/469 [==============================] - 100s 213ms/step - d_loss: 0.2673 - g_loss: 2.6119\n",
      "Epoch 9/400\n",
      "469/469 [==============================] - 100s 213ms/step - d_loss: 0.2663 - g_loss: 2.6023\n",
      "Epoch 10/400\n",
      "469/469 [==============================] - 100s 212ms/step - d_loss: 0.2660 - g_loss: 2.6064\n",
      "Epoch 11/400\n",
      "469/469 [==============================] - 100s 212ms/step - d_loss: 0.2670 - g_loss: 2.6035\n",
      "Epoch 12/400\n",
      "469/469 [==============================] - 100s 212ms/step - d_loss: 0.2668 - g_loss: 2.6041\n",
      "Epoch 13/400\n",
      "469/469 [==============================] - 100s 213ms/step - d_loss: 0.2665 - g_loss: 2.6136\n",
      "Epoch 14/400\n",
      "469/469 [==============================] - 100s 212ms/step - d_loss: 0.2664 - g_loss: 2.6139\n",
      "Epoch 15/400\n",
      "469/469 [==============================] - 100s 212ms/step - d_loss: 0.2664 - g_loss: 2.6118\n",
      "Epoch 16/400\n",
      "469/469 [==============================] - 100s 212ms/step - d_loss: 0.2667 - g_loss: 2.6152\n",
      "Epoch 17/400\n",
      "469/469 [==============================] - 101s 215ms/step - d_loss: 0.2659 - g_loss: 2.6243\n",
      "Epoch 18/400\n",
      "469/469 [==============================] - 101s 215ms/step - d_loss: 0.2665 - g_loss: 2.6155\n",
      "Epoch 19/400\n",
      "469/469 [==============================] - 101s 215ms/step - d_loss: 0.2667 - g_loss: 2.6093\n",
      "Epoch 20/400\n",
      "469/469 [==============================] - 101s 216ms/step - d_loss: 0.2667 - g_loss: 2.6152\n",
      "Epoch 21/400\n",
      "469/469 [==============================] - 101s 215ms/step - d_loss: 0.2663 - g_loss: 2.6152\n",
      "Epoch 22/400\n",
      "469/469 [==============================] - 101s 216ms/step - d_loss: 0.2658 - g_loss: 2.6118\n",
      "Epoch 23/400\n",
      "469/469 [==============================] - 100s 214ms/step - d_loss: 0.2666 - g_loss: 2.6088\n",
      "Epoch 24/400\n",
      "469/469 [==============================] - 100s 214ms/step - d_loss: 0.2662 - g_loss: 2.6116\n",
      "Epoch 25/400\n",
      "469/469 [==============================] - 100s 214ms/step - d_loss: 0.2659 - g_loss: 2.6112\n",
      "Epoch 26/400\n",
      "469/469 [==============================] - 100s 214ms/step - d_loss: 0.2662 - g_loss: 2.6075\n",
      "Epoch 27/400\n",
      "469/469 [==============================] - 100s 213ms/step - d_loss: 0.2667 - g_loss: 2.6104\n",
      "Epoch 28/400\n",
      "469/469 [==============================] - 100s 213ms/step - d_loss: 0.2663 - g_loss: 2.6118\n",
      "Epoch 29/400\n",
      "469/469 [==============================] - 100s 213ms/step - d_loss: 0.2666 - g_loss: 2.6003\n",
      "Epoch 30/400\n",
      "469/469 [==============================] - 100s 213ms/step - d_loss: 0.2667 - g_loss: 2.6099\n",
      "Epoch 31/400\n",
      "469/469 [==============================] - 100s 213ms/step - d_loss: 0.2666 - g_loss: 2.6087\n",
      "Epoch 32/400\n",
      "469/469 [==============================] - 100s 213ms/step - d_loss: 0.2666 - g_loss: 2.6048\n",
      "Epoch 33/400\n",
      "469/469 [==============================] - 100s 213ms/step - d_loss: 0.2665 - g_loss: 2.6123\n",
      "Epoch 34/400\n",
      "469/469 [==============================] - 100s 213ms/step - d_loss: 0.2662 - g_loss: 2.6149\n",
      "Epoch 35/400\n",
      "469/469 [==============================] - 100s 213ms/step - d_loss: 0.2666 - g_loss: 2.6086\n",
      "Epoch 36/400\n",
      "469/469 [==============================] - 100s 213ms/step - d_loss: 0.2664 - g_loss: 2.6135\n",
      "Epoch 37/400\n",
      "469/469 [==============================] - 100s 213ms/step - d_loss: 0.2670 - g_loss: 2.6130\n",
      "Epoch 38/400\n",
      "469/469 [==============================] - 100s 213ms/step - d_loss: 0.2671 - g_loss: 2.6096\n",
      "Epoch 39/400\n",
      "469/469 [==============================] - 100s 213ms/step - d_loss: 0.2662 - g_loss: 2.6091\n",
      "Epoch 40/400\n",
      "469/469 [==============================] - 100s 213ms/step - d_loss: 0.2662 - g_loss: 2.6169\n",
      "Epoch 41/400\n",
      "469/469 [==============================] - 100s 213ms/step - d_loss: 0.2659 - g_loss: 2.6161\n",
      "Epoch 42/400\n",
      "469/469 [==============================] - 100s 213ms/step - d_loss: 0.2664 - g_loss: 2.6148\n",
      "Epoch 43/400\n",
      "469/469 [==============================] - 100s 213ms/step - d_loss: 0.2669 - g_loss: 2.6006\n",
      "Epoch 44/400\n",
      "469/469 [==============================] - 100s 213ms/step - d_loss: 0.2669 - g_loss: 2.6065\n",
      "Epoch 45/400\n",
      "469/469 [==============================] - 100s 213ms/step - d_loss: 0.2664 - g_loss: 2.6139\n",
      "Epoch 46/400\n",
      "469/469 [==============================] - 100s 213ms/step - d_loss: 0.2664 - g_loss: 2.6117\n",
      "Epoch 47/400\n",
      "469/469 [==============================] - 100s 213ms/step - d_loss: 0.2669 - g_loss: 2.6093\n",
      "Epoch 48/400\n",
      "469/469 [==============================] - 100s 213ms/step - d_loss: 0.2665 - g_loss: 2.6106\n",
      "Epoch 49/400\n",
      "469/469 [==============================] - 100s 213ms/step - d_loss: 0.2664 - g_loss: 2.6110\n",
      "Epoch 50/400\n",
      "469/469 [==============================] - 100s 213ms/step - d_loss: 0.2665 - g_loss: 2.6121\n",
      "Epoch 51/400\n",
      "469/469 [==============================] - 100s 213ms/step - d_loss: 0.2659 - g_loss: 2.6146\n",
      "Epoch 52/400\n",
      "469/469 [==============================] - 100s 213ms/step - d_loss: 0.2662 - g_loss: 2.6100\n",
      "Epoch 53/400\n",
      "469/469 [==============================] - 100s 213ms/step - d_loss: 0.2666 - g_loss: 2.6145\n",
      "Epoch 54/400\n",
      "469/469 [==============================] - 100s 213ms/step - d_loss: 0.2661 - g_loss: 2.6141\n",
      "Epoch 55/400\n",
      "469/469 [==============================] - 100s 213ms/step - d_loss: 0.2664 - g_loss: 2.6110\n",
      "Epoch 56/400\n",
      "469/469 [==============================] - 100s 213ms/step - d_loss: 0.2670 - g_loss: 2.6086\n",
      "Epoch 57/400\n",
      "469/469 [==============================] - 100s 213ms/step - d_loss: 0.2664 - g_loss: 2.6111\n",
      "Epoch 58/400\n",
      "469/469 [==============================] - 100s 213ms/step - d_loss: 0.2666 - g_loss: 2.6069\n",
      "Epoch 59/400\n",
      "469/469 [==============================] - 100s 212ms/step - d_loss: 0.2661 - g_loss: 2.6067\n",
      "Epoch 60/400\n",
      "469/469 [==============================] - 100s 212ms/step - d_loss: 0.2669 - g_loss: 2.6186\n",
      "Epoch 61/400\n",
      "469/469 [==============================] - 100s 213ms/step - d_loss: 0.2667 - g_loss: 2.6106\n",
      "Epoch 62/400\n",
      "469/469 [==============================] - 100s 212ms/step - d_loss: 0.2668 - g_loss: 2.6082\n",
      "Epoch 63/400\n",
      "469/469 [==============================] - 100s 213ms/step - d_loss: 0.2662 - g_loss: 2.6160\n",
      "Epoch 64/400\n",
      "469/469 [==============================] - 100s 213ms/step - d_loss: 0.2669 - g_loss: 2.6128\n",
      "Epoch 65/400\n",
      "469/469 [==============================] - 100s 213ms/step - d_loss: 0.2658 - g_loss: 2.6176\n",
      "Epoch 66/400\n",
      "469/469 [==============================] - 100s 213ms/step - d_loss: 0.2663 - g_loss: 2.6145\n",
      "Epoch 67/400\n",
      "469/469 [==============================] - 100s 213ms/step - d_loss: 0.2660 - g_loss: 2.6202\n",
      "Epoch 68/400\n",
      "469/469 [==============================] - 100s 213ms/step - d_loss: 0.2665 - g_loss: 2.6089\n",
      "Epoch 69/400\n",
      "469/469 [==============================] - 100s 213ms/step - d_loss: 0.2662 - g_loss: 2.6116\n",
      "Epoch 70/400\n",
      "469/469 [==============================] - 100s 212ms/step - d_loss: 0.2663 - g_loss: 2.6153\n",
      "Epoch 71/400\n",
      "469/469 [==============================] - 100s 212ms/step - d_loss: 0.2663 - g_loss: 2.6118\n",
      "Epoch 72/400\n",
      "469/469 [==============================] - 100s 212ms/step - d_loss: 0.2666 - g_loss: 2.6056\n",
      "Epoch 73/400\n",
      "469/469 [==============================] - 100s 213ms/step - d_loss: 0.2668 - g_loss: 2.6009\n",
      "Epoch 74/400\n",
      "469/469 [==============================] - 100s 212ms/step - d_loss: 0.2663 - g_loss: 2.6124\n",
      "Epoch 75/400\n",
      "469/469 [==============================] - 100s 212ms/step - d_loss: 0.2665 - g_loss: 2.6127\n",
      "Epoch 76/400\n",
      "469/469 [==============================] - 100s 212ms/step - d_loss: 0.2662 - g_loss: 2.6093\n",
      "Epoch 77/400\n",
      "469/469 [==============================] - 100s 212ms/step - d_loss: 0.2667 - g_loss: 2.6093\n",
      "Epoch 78/400\n"
     ]
    },
    {
     "name": "stdout",
     "output_type": "stream",
     "text": [
      "469/469 [==============================] - 100s 212ms/step - d_loss: 0.2664 - g_loss: 2.6111\n",
      "Epoch 79/400\n",
      "469/469 [==============================] - 100s 213ms/step - d_loss: 0.2666 - g_loss: 2.6043\n",
      "Epoch 80/400\n",
      "469/469 [==============================] - 100s 212ms/step - d_loss: 0.2660 - g_loss: 2.6062\n",
      "Epoch 81/400\n",
      "469/469 [==============================] - 100s 212ms/step - d_loss: 0.2663 - g_loss: 2.6084\n",
      "Epoch 82/400\n",
      "469/469 [==============================] - 100s 212ms/step - d_loss: 0.2664 - g_loss: 2.6131\n",
      "Epoch 83/400\n",
      "469/469 [==============================] - 100s 212ms/step - d_loss: 0.2664 - g_loss: 2.6086\n",
      "Epoch 84/400\n",
      "469/469 [==============================] - 100s 212ms/step - d_loss: 0.2659 - g_loss: 2.6097\n",
      "Epoch 85/400\n",
      "469/469 [==============================] - 100s 212ms/step - d_loss: 0.2663 - g_loss: 2.6095\n",
      "Epoch 86/400\n",
      "469/469 [==============================] - 100s 213ms/step - d_loss: 0.2661 - g_loss: 2.6128\n",
      "Epoch 87/400\n",
      "469/469 [==============================] - 100s 213ms/step - d_loss: 0.2664 - g_loss: 2.6085\n",
      "Epoch 88/400\n",
      "469/469 [==============================] - 100s 213ms/step - d_loss: 0.2664 - g_loss: 2.6097\n",
      "Epoch 89/400\n",
      "469/469 [==============================] - 100s 213ms/step - d_loss: 0.2664 - g_loss: 2.6087\n",
      "Epoch 90/400\n",
      "469/469 [==============================] - 100s 213ms/step - d_loss: 0.2667 - g_loss: 2.6094\n",
      "Epoch 91/400\n",
      "469/469 [==============================] - 100s 212ms/step - d_loss: 0.2664 - g_loss: 2.6102\n",
      "Epoch 92/400\n",
      "469/469 [==============================] - 100s 212ms/step - d_loss: 0.2663 - g_loss: 2.6103\n",
      "Epoch 93/400\n",
      "469/469 [==============================] - 100s 213ms/step - d_loss: 0.2664 - g_loss: 2.6142\n",
      "Epoch 94/400\n",
      "469/469 [==============================] - 100s 212ms/step - d_loss: 0.2661 - g_loss: 2.6125\n",
      "Epoch 95/400\n",
      "469/469 [==============================] - 100s 213ms/step - d_loss: 0.2665 - g_loss: 2.6144\n",
      "Epoch 96/400\n",
      "469/469 [==============================] - 99s 211ms/step - d_loss: 0.2668 - g_loss: 2.6187\n",
      "Epoch 97/400\n",
      "469/469 [==============================] - 100s 212ms/step - d_loss: 0.2665 - g_loss: 2.6143\n",
      "Epoch 98/400\n",
      "469/469 [==============================] - 100s 213ms/step - d_loss: 0.2666 - g_loss: 2.6077\n",
      "Epoch 99/400\n",
      "469/469 [==============================] - 100s 212ms/step - d_loss: 0.2668 - g_loss: 2.6152\n",
      "Epoch 100/400\n",
      "469/469 [==============================] - 100s 213ms/step - d_loss: 0.2664 - g_loss: 2.6093\n",
      "Epoch 101/400\n",
      "469/469 [==============================] - 100s 213ms/step - d_loss: 0.2664 - g_loss: 2.6173\n",
      "Epoch 102/400\n",
      "469/469 [==============================] - 100s 213ms/step - d_loss: 0.2659 - g_loss: 2.6086\n",
      "Epoch 103/400\n",
      "469/469 [==============================] - 100s 213ms/step - d_loss: 0.2665 - g_loss: 2.6180\n",
      "Epoch 104/400\n",
      "469/469 [==============================] - 100s 213ms/step - d_loss: 0.2661 - g_loss: 2.6123\n",
      "Epoch 105/400\n",
      "469/469 [==============================] - 100s 214ms/step - d_loss: 0.2662 - g_loss: 2.6093\n",
      "Epoch 106/400\n",
      "469/469 [==============================] - 100s 213ms/step - d_loss: 0.2658 - g_loss: 2.6215\n",
      "Epoch 107/400\n",
      "469/469 [==============================] - 101s 215ms/step - d_loss: 0.2661 - g_loss: 2.6186\n",
      "Epoch 108/400\n",
      "469/469 [==============================] - 101s 215ms/step - d_loss: 0.2661 - g_loss: 2.6149\n",
      "Epoch 109/400\n",
      "469/469 [==============================] - 101s 215ms/step - d_loss: 0.2661 - g_loss: 2.6161\n",
      "Epoch 110/400\n",
      "469/469 [==============================] - 101s 215ms/step - d_loss: 0.2661 - g_loss: 2.6124\n",
      "Epoch 111/400\n",
      "469/469 [==============================] - 101s 215ms/step - d_loss: 0.2669 - g_loss: 2.6138\n",
      "Epoch 112/400\n",
      "469/469 [==============================] - 101s 215ms/step - d_loss: 0.2663 - g_loss: 2.6194\n",
      "Epoch 113/400\n",
      "469/469 [==============================] - 101s 215ms/step - d_loss: 0.2663 - g_loss: 2.6209\n",
      "Epoch 114/400\n",
      "469/469 [==============================] - 101s 215ms/step - d_loss: 0.2662 - g_loss: 2.6066\n",
      "Epoch 115/400\n",
      "469/469 [==============================] - 101s 215ms/step - d_loss: 0.2664 - g_loss: 2.6156\n",
      "Epoch 116/400\n",
      "469/469 [==============================] - 101s 215ms/step - d_loss: 0.2663 - g_loss: 2.6133\n",
      "Epoch 117/400\n",
      "469/469 [==============================] - 100s 213ms/step - d_loss: 0.2664 - g_loss: 2.6153\n",
      "Epoch 118/400\n",
      "469/469 [==============================] - 100s 213ms/step - d_loss: 0.2665 - g_loss: 2.6198\n",
      "Epoch 119/400\n",
      "469/469 [==============================] - 100s 213ms/step - d_loss: 0.2667 - g_loss: 2.6179\n",
      "Epoch 120/400\n",
      "469/469 [==============================] - 100s 214ms/step - d_loss: 0.2662 - g_loss: 2.6243\n",
      "Epoch 121/400\n",
      "469/469 [==============================] - 100s 214ms/step - d_loss: 0.2662 - g_loss: 2.6197\n",
      "Epoch 122/400\n",
      "469/469 [==============================] - 100s 214ms/step - d_loss: 0.2666 - g_loss: 2.6146\n",
      "Epoch 123/400\n",
      "469/469 [==============================] - 100s 214ms/step - d_loss: 0.2665 - g_loss: 2.6194\n",
      "Epoch 124/400\n",
      "469/469 [==============================] - 101s 214ms/step - d_loss: 0.2661 - g_loss: 2.6257\n",
      "Epoch 125/400\n",
      "469/469 [==============================] - 100s 214ms/step - d_loss: 0.2665 - g_loss: 2.6155\n",
      "Epoch 126/400\n",
      "469/469 [==============================] - 100s 213ms/step - d_loss: 0.2659 - g_loss: 2.6167\n",
      "Epoch 127/400\n",
      "469/469 [==============================] - 100s 214ms/step - d_loss: 0.2662 - g_loss: 2.6088\n",
      "Epoch 128/400\n",
      "469/469 [==============================] - 100s 214ms/step - d_loss: 0.2667 - g_loss: 2.6201\n",
      "Epoch 129/400\n",
      "469/469 [==============================] - 100s 214ms/step - d_loss: 0.2665 - g_loss: 2.6104\n",
      "Epoch 130/400\n",
      "469/469 [==============================] - 100s 214ms/step - d_loss: 0.2664 - g_loss: 2.6098\n",
      "Epoch 131/400\n",
      "469/469 [==============================] - 100s 214ms/step - d_loss: 0.2664 - g_loss: 2.6191\n",
      "Epoch 132/400\n",
      "469/469 [==============================] - 100s 213ms/step - d_loss: 0.2659 - g_loss: 2.6215\n",
      "Epoch 133/400\n",
      "469/469 [==============================] - 100s 213ms/step - d_loss: 0.2662 - g_loss: 2.6077\n",
      "Epoch 134/400\n",
      "469/469 [==============================] - 101s 215ms/step - d_loss: 0.2669 - g_loss: 2.6095\n",
      "Epoch 135/400\n",
      "469/469 [==============================] - 100s 214ms/step - d_loss: 0.2659 - g_loss: 2.6124\n",
      "Epoch 136/400\n",
      "469/469 [==============================] - 100s 213ms/step - d_loss: 0.2664 - g_loss: 2.6086\n",
      "Epoch 137/400\n",
      "469/469 [==============================] - 100s 213ms/step - d_loss: 0.2667 - g_loss: 2.6095\n",
      "Epoch 138/400\n",
      "469/469 [==============================] - 100s 213ms/step - d_loss: 0.2660 - g_loss: 2.6157\n",
      "Epoch 139/400\n",
      "469/469 [==============================] - 100s 214ms/step - d_loss: 0.2664 - g_loss: 2.6183\n",
      "Epoch 140/400\n",
      "469/469 [==============================] - 100s 213ms/step - d_loss: 0.2670 - g_loss: 2.6111\n",
      "Epoch 141/400\n",
      "469/469 [==============================] - 100s 213ms/step - d_loss: 0.2663 - g_loss: 2.6155\n",
      "Epoch 142/400\n",
      "469/469 [==============================] - 100s 213ms/step - d_loss: 0.2664 - g_loss: 2.6222\n",
      "Epoch 143/400\n",
      "469/469 [==============================] - 100s 213ms/step - d_loss: 0.2673 - g_loss: 2.6130\n",
      "Epoch 144/400\n",
      "469/469 [==============================] - 100s 213ms/step - d_loss: 0.2662 - g_loss: 2.6196\n",
      "Epoch 145/400\n",
      "469/469 [==============================] - 100s 214ms/step - d_loss: 0.2667 - g_loss: 2.6233\n",
      "Epoch 146/400\n",
      "469/469 [==============================] - 100s 214ms/step - d_loss: 0.2666 - g_loss: 2.6258\n",
      "Epoch 147/400\n",
      "469/469 [==============================] - 100s 214ms/step - d_loss: 0.2664 - g_loss: 2.6193\n",
      "Epoch 148/400\n",
      "469/469 [==============================] - 100s 213ms/step - d_loss: 0.2661 - g_loss: 2.6257\n",
      "Epoch 149/400\n",
      "469/469 [==============================] - 100s 213ms/step - d_loss: 0.2661 - g_loss: 2.6181\n",
      "Epoch 150/400\n",
      "469/469 [==============================] - 100s 214ms/step - d_loss: 0.2665 - g_loss: 2.6097\n",
      "Epoch 151/400\n",
      "469/469 [==============================] - 100s 213ms/step - d_loss: 0.2662 - g_loss: 2.6178\n",
      "Epoch 152/400\n",
      "469/469 [==============================] - 100s 214ms/step - d_loss: 0.2669 - g_loss: 2.6115\n",
      "Epoch 153/400\n",
      "469/469 [==============================] - 100s 214ms/step - d_loss: 0.2665 - g_loss: 2.6187\n",
      "Epoch 154/400\n"
     ]
    },
    {
     "name": "stdout",
     "output_type": "stream",
     "text": [
      "469/469 [==============================] - 100s 214ms/step - d_loss: 0.2671 - g_loss: 2.6163\n",
      "Epoch 155/400\n",
      "469/469 [==============================] - 100s 213ms/step - d_loss: 0.2665 - g_loss: 2.6205\n",
      "Epoch 156/400\n",
      "469/469 [==============================] - 100s 212ms/step - d_loss: 0.2666 - g_loss: 2.6168\n",
      "Epoch 157/400\n",
      "469/469 [==============================] - 100s 212ms/step - d_loss: 0.2663 - g_loss: 2.6234\n",
      "Epoch 158/400\n",
      "469/469 [==============================] - 100s 212ms/step - d_loss: 0.2662 - g_loss: 2.6186\n",
      "Epoch 159/400\n",
      "469/469 [==============================] - 100s 212ms/step - d_loss: 0.2667 - g_loss: 2.6161\n",
      "Epoch 160/400\n",
      "469/469 [==============================] - 100s 213ms/step - d_loss: 0.2666 - g_loss: 2.6188\n",
      "Epoch 161/400\n",
      "469/469 [==============================] - 100s 212ms/step - d_loss: 0.2664 - g_loss: 2.6237\n",
      "Epoch 162/400\n",
      "469/469 [==============================] - 100s 212ms/step - d_loss: 0.2662 - g_loss: 2.6258\n",
      "Epoch 163/400\n",
      "469/469 [==============================] - 100s 213ms/step - d_loss: 0.2667 - g_loss: 2.6234\n",
      "Epoch 164/400\n",
      "469/469 [==============================] - 100s 213ms/step - d_loss: 0.2663 - g_loss: 2.6175\n",
      "Epoch 165/400\n",
      "469/469 [==============================] - 100s 213ms/step - d_loss: 0.2664 - g_loss: 2.6165\n",
      "Epoch 166/400\n",
      "469/469 [==============================] - 100s 213ms/step - d_loss: 0.2665 - g_loss: 2.6162\n",
      "Epoch 167/400\n",
      "469/469 [==============================] - 100s 213ms/step - d_loss: 0.2662 - g_loss: 2.6191\n",
      "Epoch 168/400\n",
      "469/469 [==============================] - 100s 213ms/step - d_loss: 0.2667 - g_loss: 2.6232\n",
      "Epoch 169/400\n",
      "469/469 [==============================] - 100s 213ms/step - d_loss: 0.2667 - g_loss: 2.6205\n",
      "Epoch 170/400\n",
      "469/469 [==============================] - 100s 213ms/step - d_loss: 0.2661 - g_loss: 2.6209\n",
      "Epoch 171/400\n",
      "469/469 [==============================] - 100s 213ms/step - d_loss: 0.2668 - g_loss: 2.6189\n",
      "Epoch 172/400\n",
      "469/469 [==============================] - 100s 213ms/step - d_loss: 0.2664 - g_loss: 2.6146\n",
      "Epoch 173/400\n",
      "469/469 [==============================] - 100s 213ms/step - d_loss: 0.2662 - g_loss: 2.6192\n",
      "Epoch 174/400\n",
      "469/469 [==============================] - 100s 213ms/step - d_loss: 0.2669 - g_loss: 2.6060\n",
      "Epoch 175/400\n",
      "469/469 [==============================] - 100s 213ms/step - d_loss: 0.2668 - g_loss: 2.6066\n",
      "Epoch 176/400\n",
      "469/469 [==============================] - 100s 213ms/step - d_loss: 0.2661 - g_loss: 2.6195\n",
      "Epoch 177/400\n",
      "469/469 [==============================] - 100s 213ms/step - d_loss: 0.2666 - g_loss: 2.6145\n",
      "Epoch 178/400\n",
      "469/469 [==============================] - 100s 213ms/step - d_loss: 0.2662 - g_loss: 2.6200\n",
      "Epoch 179/400\n",
      "469/469 [==============================] - 100s 213ms/step - d_loss: 0.2665 - g_loss: 2.6208\n",
      "Epoch 180/400\n",
      "469/469 [==============================] - 100s 213ms/step - d_loss: 0.2663 - g_loss: 2.6153\n",
      "Epoch 181/400\n",
      "469/469 [==============================] - 100s 213ms/step - d_loss: 0.2664 - g_loss: 2.6155\n",
      "Epoch 182/400\n",
      "469/469 [==============================] - 100s 213ms/step - d_loss: 0.2670 - g_loss: 2.6114\n",
      "Epoch 183/400\n",
      "469/469 [==============================] - 100s 213ms/step - d_loss: 0.2662 - g_loss: 2.6163\n",
      "Epoch 184/400\n",
      "469/469 [==============================] - 100s 213ms/step - d_loss: 0.2663 - g_loss: 2.6129\n",
      "Epoch 185/400\n",
      "469/469 [==============================] - 100s 213ms/step - d_loss: 0.2664 - g_loss: 2.6155\n",
      "Epoch 186/400\n",
      "469/469 [==============================] - 100s 213ms/step - d_loss: 0.2669 - g_loss: 2.6096\n",
      "Epoch 187/400\n",
      "469/469 [==============================] - 100s 213ms/step - d_loss: 0.2666 - g_loss: 2.6148\n",
      "Epoch 188/400\n",
      "469/469 [==============================] - 100s 212ms/step - d_loss: 0.2663 - g_loss: 2.6129\n",
      "Epoch 189/400\n",
      "469/469 [==============================] - 99s 211ms/step - d_loss: 0.2661 - g_loss: 2.6144\n",
      "Epoch 190/400\n",
      "469/469 [==============================] - 99s 212ms/step - d_loss: 0.2661 - g_loss: 2.6202\n",
      "Epoch 191/400\n",
      "469/469 [==============================] - 100s 212ms/step - d_loss: 0.2667 - g_loss: 2.6162\n",
      "Epoch 192/400\n",
      "469/469 [==============================] - 100s 212ms/step - d_loss: 0.2670 - g_loss: 2.6113\n",
      "Epoch 193/400\n",
      "469/469 [==============================] - 100s 212ms/step - d_loss: 0.2666 - g_loss: 2.6148\n",
      "Epoch 194/400\n",
      "469/469 [==============================] - 100s 212ms/step - d_loss: 0.2665 - g_loss: 2.6116\n",
      "Epoch 195/400\n",
      "469/469 [==============================] - 100s 212ms/step - d_loss: 0.2667 - g_loss: 2.6236\n",
      "Epoch 196/400\n",
      "469/469 [==============================] - 100s 212ms/step - d_loss: 0.2664 - g_loss: 2.6232\n",
      "Epoch 197/400\n",
      "469/469 [==============================] - 100s 213ms/step - d_loss: 0.2664 - g_loss: 2.6188\n",
      "Epoch 198/400\n",
      "469/469 [==============================] - 100s 212ms/step - d_loss: 0.2664 - g_loss: 2.6265\n",
      "Epoch 199/400\n",
      "469/469 [==============================] - 100s 212ms/step - d_loss: 0.2658 - g_loss: 2.6292\n",
      "Epoch 200/400\n",
      "469/469 [==============================] - 100s 212ms/step - d_loss: 0.2663 - g_loss: 2.6195\n",
      "Epoch 201/400\n",
      "469/469 [==============================] - 100s 212ms/step - d_loss: 0.2663 - g_loss: 2.6156\n",
      "Epoch 202/400\n",
      "469/469 [==============================] - 100s 212ms/step - d_loss: 0.2663 - g_loss: 2.6169\n",
      "Epoch 203/400\n",
      "469/469 [==============================] - 100s 213ms/step - d_loss: 0.2663 - g_loss: 2.6193\n",
      "Epoch 204/400\n",
      "469/469 [==============================] - 100s 213ms/step - d_loss: 0.2670 - g_loss: 2.6124\n",
      "Epoch 205/400\n",
      "469/469 [==============================] - 100s 213ms/step - d_loss: 0.2661 - g_loss: 2.6148\n",
      "Epoch 206/400\n",
      "469/469 [==============================] - 100s 212ms/step - d_loss: 0.2661 - g_loss: 2.6200\n",
      "Epoch 207/400\n",
      "469/469 [==============================] - 100s 212ms/step - d_loss: 0.2668 - g_loss: 2.6195\n",
      "Epoch 208/400\n",
      "469/469 [==============================] - 100s 213ms/step - d_loss: 0.2666 - g_loss: 2.6210\n",
      "Epoch 209/400\n",
      "469/469 [==============================] - 100s 212ms/step - d_loss: 0.2665 - g_loss: 2.6212\n",
      "Epoch 210/400\n",
      "469/469 [==============================] - 100s 213ms/step - d_loss: 0.2669 - g_loss: 2.6190\n",
      "Epoch 211/400\n",
      "469/469 [==============================] - 100s 212ms/step - d_loss: 0.2663 - g_loss: 2.6144\n",
      "Epoch 212/400\n",
      "469/469 [==============================] - 100s 213ms/step - d_loss: 0.2666 - g_loss: 2.6129\n",
      "Epoch 213/400\n",
      "469/469 [==============================] - 100s 212ms/step - d_loss: 0.2668 - g_loss: 2.6128\n",
      "Epoch 214/400\n",
      "469/469 [==============================] - 100s 213ms/step - d_loss: 0.2665 - g_loss: 2.6157\n",
      "Epoch 215/400\n",
      "469/469 [==============================] - 99s 212ms/step - d_loss: 0.2668 - g_loss: 2.6135\n",
      "Epoch 216/400\n",
      "469/469 [==============================] - 99s 212ms/step - d_loss: 0.2660 - g_loss: 2.6226\n",
      "Epoch 217/400\n",
      "469/469 [==============================] - 99s 212ms/step - d_loss: 0.2670 - g_loss: 2.6195\n",
      "Epoch 218/400\n",
      "469/469 [==============================] - 99s 212ms/step - d_loss: 0.2663 - g_loss: 2.6142\n",
      "Epoch 219/400\n",
      "469/469 [==============================] - 99s 212ms/step - d_loss: 0.2670 - g_loss: 2.6124\n",
      "Epoch 220/400\n",
      "469/469 [==============================] - 99s 212ms/step - d_loss: 0.2665 - g_loss: 2.6221\n",
      "Epoch 221/400\n",
      "469/469 [==============================] - 99s 212ms/step - d_loss: 0.2659 - g_loss: 2.6203\n",
      "Epoch 222/400\n",
      "469/469 [==============================] - 99s 212ms/step - d_loss: 0.2666 - g_loss: 2.6183\n",
      "Epoch 223/400\n",
      "469/469 [==============================] - 99s 212ms/step - d_loss: 0.2666 - g_loss: 2.6182\n",
      "Epoch 224/400\n",
      "469/469 [==============================] - 99s 212ms/step - d_loss: 0.2670 - g_loss: 2.6093\n",
      "Epoch 225/400\n",
      "469/469 [==============================] - 99s 212ms/step - d_loss: 0.2665 - g_loss: 2.6079\n",
      "Epoch 226/400\n",
      "469/469 [==============================] - 99s 212ms/step - d_loss: 0.2665 - g_loss: 2.6093\n",
      "Epoch 227/400\n",
      "469/469 [==============================] - 99s 212ms/step - d_loss: 0.2662 - g_loss: 2.6172\n",
      "Epoch 228/400\n",
      "469/469 [==============================] - 99s 212ms/step - d_loss: 0.2665 - g_loss: 2.6166\n",
      "Epoch 229/400\n",
      "469/469 [==============================] - 99s 212ms/step - d_loss: 0.2667 - g_loss: 2.6140\n",
      "Epoch 230/400\n"
     ]
    },
    {
     "name": "stdout",
     "output_type": "stream",
     "text": [
      "469/469 [==============================] - 99s 212ms/step - d_loss: 0.2661 - g_loss: 2.6191\n",
      "Epoch 231/400\n",
      "469/469 [==============================] - 99s 212ms/step - d_loss: 0.2667 - g_loss: 2.6172\n",
      "Epoch 232/400\n",
      "469/469 [==============================] - 99s 212ms/step - d_loss: 0.2659 - g_loss: 2.6139\n",
      "Epoch 233/400\n",
      "469/469 [==============================] - 99s 212ms/step - d_loss: 0.2669 - g_loss: 2.6113\n",
      "Epoch 234/400\n",
      "469/469 [==============================] - 99s 212ms/step - d_loss: 0.2662 - g_loss: 2.6116\n",
      "Epoch 235/400\n",
      "469/469 [==============================] - 99s 212ms/step - d_loss: 0.2666 - g_loss: 2.6121\n",
      "Epoch 236/400\n",
      "469/469 [==============================] - 99s 212ms/step - d_loss: 0.2658 - g_loss: 2.6173\n",
      "Epoch 237/400\n",
      "469/469 [==============================] - 99s 212ms/step - d_loss: 0.2664 - g_loss: 2.6151\n",
      "Epoch 238/400\n",
      "469/469 [==============================] - 99s 212ms/step - d_loss: 0.2668 - g_loss: 2.6154\n",
      "Epoch 239/400\n",
      "469/469 [==============================] - 99s 212ms/step - d_loss: 0.2668 - g_loss: 2.6179\n",
      "Epoch 240/400\n",
      "469/469 [==============================] - 99s 212ms/step - d_loss: 0.2662 - g_loss: 2.6174\n",
      "Epoch 241/400\n",
      "469/469 [==============================] - 99s 212ms/step - d_loss: 0.2666 - g_loss: 2.6151\n",
      "Epoch 242/400\n",
      "469/469 [==============================] - 99s 212ms/step - d_loss: 0.2664 - g_loss: 2.6160\n",
      "Epoch 243/400\n",
      "469/469 [==============================] - 99s 212ms/step - d_loss: 0.2662 - g_loss: 2.6116\n",
      "Epoch 244/400\n",
      "469/469 [==============================] - 99s 212ms/step - d_loss: 0.2663 - g_loss: 2.6209\n",
      "Epoch 245/400\n",
      "469/469 [==============================] - 99s 212ms/step - d_loss: 0.2669 - g_loss: 2.6092\n",
      "Epoch 246/400\n",
      "469/469 [==============================] - 99s 212ms/step - d_loss: 0.2664 - g_loss: 2.6119\n",
      "Epoch 247/400\n",
      "469/469 [==============================] - 99s 212ms/step - d_loss: 0.2668 - g_loss: 2.6040\n",
      "Epoch 248/400\n",
      "469/469 [==============================] - 99s 212ms/step - d_loss: 0.2664 - g_loss: 2.6098\n",
      "Epoch 249/400\n",
      "469/469 [==============================] - 99s 212ms/step - d_loss: 0.2668 - g_loss: 2.6070\n",
      "Epoch 250/400\n",
      "469/469 [==============================] - 99s 212ms/step - d_loss: 0.2665 - g_loss: 2.6162\n",
      "Epoch 251/400\n",
      "469/469 [==============================] - 99s 212ms/step - d_loss: 0.2662 - g_loss: 2.6148\n",
      "Epoch 252/400\n",
      "469/469 [==============================] - 99s 212ms/step - d_loss: 0.2661 - g_loss: 2.6069\n",
      "Epoch 253/400\n",
      "469/469 [==============================] - 99s 212ms/step - d_loss: 0.2665 - g_loss: 2.6136\n",
      "Epoch 254/400\n",
      "469/469 [==============================] - 99s 212ms/step - d_loss: 0.2664 - g_loss: 2.6196\n",
      "Epoch 255/400\n",
      "469/469 [==============================] - 99s 212ms/step - d_loss: 0.2661 - g_loss: 2.6167\n",
      "Epoch 256/400\n",
      "469/469 [==============================] - 99s 212ms/step - d_loss: 0.2661 - g_loss: 2.6204\n",
      "Epoch 257/400\n",
      "469/469 [==============================] - 99s 212ms/step - d_loss: 0.2667 - g_loss: 2.6125\n",
      "Epoch 258/400\n",
      "469/469 [==============================] - 99s 212ms/step - d_loss: 0.2662 - g_loss: 2.6168\n",
      "Epoch 259/400\n",
      "469/469 [==============================] - 99s 212ms/step - d_loss: 0.2664 - g_loss: 2.6179\n",
      "Epoch 260/400\n",
      "469/469 [==============================] - 99s 212ms/step - d_loss: 0.2661 - g_loss: 2.6183\n",
      "Epoch 261/400\n",
      "469/469 [==============================] - 99s 212ms/step - d_loss: 0.2663 - g_loss: 2.6193\n",
      "Epoch 262/400\n",
      "469/469 [==============================] - 99s 212ms/step - d_loss: 0.2667 - g_loss: 2.6172\n",
      "Epoch 263/400\n",
      "469/469 [==============================] - 99s 212ms/step - d_loss: 0.2663 - g_loss: 2.6148\n",
      "Epoch 264/400\n",
      "469/469 [==============================] - 99s 212ms/step - d_loss: 0.2670 - g_loss: 2.6125\n",
      "Epoch 265/400\n",
      "469/469 [==============================] - 99s 212ms/step - d_loss: 0.2665 - g_loss: 2.6127\n",
      "Epoch 266/400\n",
      "469/469 [==============================] - 99s 212ms/step - d_loss: 0.2660 - g_loss: 2.6138\n",
      "Epoch 267/400\n",
      "469/469 [==============================] - 99s 212ms/step - d_loss: 0.2656 - g_loss: 2.6197\n",
      "Epoch 268/400\n",
      "469/469 [==============================] - 99s 212ms/step - d_loss: 0.2665 - g_loss: 2.6117\n",
      "Epoch 269/400\n",
      "469/469 [==============================] - 99s 212ms/step - d_loss: 0.2663 - g_loss: 2.6098\n",
      "Epoch 270/400\n",
      "469/469 [==============================] - 99s 212ms/step - d_loss: 0.2666 - g_loss: 2.6082\n",
      "Epoch 271/400\n",
      "469/469 [==============================] - 99s 212ms/step - d_loss: 0.2662 - g_loss: 2.6208\n",
      "Epoch 272/400\n",
      "469/469 [==============================] - 99s 212ms/step - d_loss: 0.2663 - g_loss: 2.6129\n",
      "Epoch 273/400\n",
      "469/469 [==============================] - 99s 212ms/step - d_loss: 0.2668 - g_loss: 2.6100\n",
      "Epoch 274/400\n",
      "469/469 [==============================] - 99s 212ms/step - d_loss: 0.2659 - g_loss: 2.6167\n",
      "Epoch 275/400\n",
      "469/469 [==============================] - 99s 212ms/step - d_loss: 0.2663 - g_loss: 2.6187\n",
      "Epoch 276/400\n",
      "469/469 [==============================] - 99s 212ms/step - d_loss: 0.2663 - g_loss: 2.6244\n",
      "Epoch 277/400\n",
      "469/469 [==============================] - 99s 212ms/step - d_loss: 0.2661 - g_loss: 2.6117\n",
      "Epoch 278/400\n",
      "469/469 [==============================] - 99s 212ms/step - d_loss: 0.2665 - g_loss: 2.6135\n",
      "Epoch 279/400\n",
      "469/469 [==============================] - 99s 212ms/step - d_loss: 0.2664 - g_loss: 2.6169\n",
      "Epoch 280/400\n",
      "469/469 [==============================] - 99s 212ms/step - d_loss: 0.2663 - g_loss: 2.6198\n",
      "Epoch 281/400\n",
      "469/469 [==============================] - 99s 212ms/step - d_loss: 0.2661 - g_loss: 2.6193\n",
      "Epoch 282/400\n",
      "469/469 [==============================] - 99s 212ms/step - d_loss: 0.2667 - g_loss: 2.6103\n",
      "Epoch 283/400\n",
      "469/469 [==============================] - 99s 212ms/step - d_loss: 0.2663 - g_loss: 2.6156\n",
      "Epoch 284/400\n",
      "469/469 [==============================] - 99s 212ms/step - d_loss: 0.2663 - g_loss: 2.6147\n",
      "Epoch 285/400\n",
      "469/469 [==============================] - 99s 212ms/step - d_loss: 0.2662 - g_loss: 2.6155\n",
      "Epoch 286/400\n",
      "469/469 [==============================] - 99s 212ms/step - d_loss: 0.2668 - g_loss: 2.6144\n",
      "Epoch 287/400\n",
      "469/469 [==============================] - 99s 212ms/step - d_loss: 0.2665 - g_loss: 2.6084\n",
      "Epoch 288/400\n",
      "469/469 [==============================] - 99s 212ms/step - d_loss: 0.2667 - g_loss: 2.6132\n",
      "Epoch 289/400\n",
      "469/469 [==============================] - 99s 212ms/step - d_loss: 0.2668 - g_loss: 2.6028\n",
      "Epoch 290/400\n",
      "469/469 [==============================] - 99s 212ms/step - d_loss: 0.2665 - g_loss: 2.6119\n",
      "Epoch 291/400\n",
      "469/469 [==============================] - 100s 212ms/step - d_loss: 0.2664 - g_loss: 2.6133\n",
      "Epoch 292/400\n",
      "469/469 [==============================] - 100s 212ms/step - d_loss: 0.2661 - g_loss: 2.6150\n",
      "Epoch 293/400\n",
      "469/469 [==============================] - 99s 212ms/step - d_loss: 0.2661 - g_loss: 2.6212\n",
      "Epoch 294/400\n",
      "469/469 [==============================] - 99s 212ms/step - d_loss: 0.2668 - g_loss: 2.6148\n",
      "Epoch 295/400\n",
      "469/469 [==============================] - 100s 212ms/step - d_loss: 0.2668 - g_loss: 2.6009\n",
      "Epoch 296/400\n",
      "469/469 [==============================] - 99s 212ms/step - d_loss: 0.2663 - g_loss: 2.6088\n",
      "Epoch 297/400\n",
      "469/469 [==============================] - 99s 212ms/step - d_loss: 0.2661 - g_loss: 2.6128\n",
      "Epoch 298/400\n",
      "469/469 [==============================] - 99s 212ms/step - d_loss: 0.2661 - g_loss: 2.6143\n",
      "Epoch 299/400\n",
      "469/469 [==============================] - 100s 212ms/step - d_loss: 0.2663 - g_loss: 2.6159\n",
      "Epoch 300/400\n",
      "469/469 [==============================] - 99s 212ms/step - d_loss: 0.2661 - g_loss: 2.6074\n",
      "Epoch 301/400\n",
      "469/469 [==============================] - 99s 212ms/step - d_loss: 0.2663 - g_loss: 2.6081\n",
      "Epoch 302/400\n",
      "469/469 [==============================] - 99s 212ms/step - d_loss: 0.2657 - g_loss: 2.6142\n",
      "Epoch 303/400\n",
      "469/469 [==============================] - 99s 212ms/step - d_loss: 0.2672 - g_loss: 2.6049\n",
      "Epoch 304/400\n",
      "469/469 [==============================] - 99s 212ms/step - d_loss: 0.2666 - g_loss: 2.5995\n",
      "Epoch 305/400\n",
      "469/469 [==============================] - 99s 212ms/step - d_loss: 0.2666 - g_loss: 2.6080\n",
      "Epoch 306/400\n",
      "469/469 [==============================] - 99s 212ms/step - d_loss: 0.2667 - g_loss: 2.6086\n",
      "Epoch 307/400\n"
     ]
    },
    {
     "name": "stdout",
     "output_type": "stream",
     "text": [
      "469/469 [==============================] - 99s 212ms/step - d_loss: 0.2668 - g_loss: 2.6060\n",
      "Epoch 308/400\n",
      "469/469 [==============================] - 99s 212ms/step - d_loss: 0.2667 - g_loss: 2.6144\n",
      "Epoch 309/400\n",
      "469/469 [==============================] - 99s 212ms/step - d_loss: 0.2666 - g_loss: 2.6052\n",
      "Epoch 310/400\n",
      "469/469 [==============================] - 100s 212ms/step - d_loss: 0.2667 - g_loss: 2.6115\n",
      "Epoch 311/400\n",
      "469/469 [==============================] - 99s 212ms/step - d_loss: 0.2661 - g_loss: 2.6151\n",
      "Epoch 312/400\n",
      "469/469 [==============================] - 100s 212ms/step - d_loss: 0.2667 - g_loss: 2.6133\n",
      "Epoch 313/400\n",
      "469/469 [==============================] - 99s 212ms/step - d_loss: 0.2667 - g_loss: 2.6086\n",
      "Epoch 314/400\n",
      "469/469 [==============================] - 99s 212ms/step - d_loss: 0.2670 - g_loss: 2.6094\n",
      "Epoch 315/400\n",
      "469/469 [==============================] - 100s 212ms/step - d_loss: 0.2661 - g_loss: 2.6177\n",
      "Epoch 316/400\n",
      "469/469 [==============================] - 100s 212ms/step - d_loss: 0.2662 - g_loss: 2.6169\n",
      "Epoch 317/400\n",
      "469/469 [==============================] - 100s 212ms/step - d_loss: 0.2668 - g_loss: 2.6105\n",
      "Epoch 318/400\n",
      "469/469 [==============================] - 100s 212ms/step - d_loss: 0.2668 - g_loss: 2.6131\n",
      "Epoch 319/400\n",
      "469/469 [==============================] - 100s 212ms/step - d_loss: 0.2669 - g_loss: 2.5996\n",
      "Epoch 320/400\n",
      "469/469 [==============================] - 99s 212ms/step - d_loss: 0.2661 - g_loss: 2.6121\n",
      "Epoch 321/400\n",
      "469/469 [==============================] - 100s 212ms/step - d_loss: 0.2666 - g_loss: 2.6114\n",
      "Epoch 322/400\n",
      "469/469 [==============================] - 100s 212ms/step - d_loss: 0.2666 - g_loss: 2.6157\n",
      "Epoch 323/400\n",
      "469/469 [==============================] - 99s 212ms/step - d_loss: 0.2663 - g_loss: 2.6124\n",
      "Epoch 324/400\n",
      "469/469 [==============================] - 99s 212ms/step - d_loss: 0.2665 - g_loss: 2.6040\n",
      "Epoch 325/400\n",
      "469/469 [==============================] - 99s 212ms/step - d_loss: 0.2660 - g_loss: 2.6092\n",
      "Epoch 326/400\n",
      "469/469 [==============================] - 99s 212ms/step - d_loss: 0.2662 - g_loss: 2.6118\n",
      "Epoch 327/400\n",
      "469/469 [==============================] - 99s 212ms/step - d_loss: 0.2668 - g_loss: 2.6003\n",
      "Epoch 328/400\n",
      "469/469 [==============================] - 99s 212ms/step - d_loss: 0.2663 - g_loss: 2.6097\n",
      "Epoch 329/400\n",
      "469/469 [==============================] - 99s 212ms/step - d_loss: 0.2664 - g_loss: 2.6119\n",
      "Epoch 330/400\n",
      "469/469 [==============================] - 100s 212ms/step - d_loss: 0.2664 - g_loss: 2.6157\n",
      "Epoch 331/400\n",
      "469/469 [==============================] - 100s 212ms/step - d_loss: 0.2659 - g_loss: 2.6147\n",
      "Epoch 332/400\n",
      "469/469 [==============================] - 100s 212ms/step - d_loss: 0.2664 - g_loss: 2.6109\n",
      "Epoch 333/400\n",
      "469/469 [==============================] - 100s 212ms/step - d_loss: 0.2663 - g_loss: 2.6101\n",
      "Epoch 334/400\n",
      "469/469 [==============================] - 100s 212ms/step - d_loss: 0.2670 - g_loss: 2.6074\n",
      "Epoch 335/400\n",
      "469/469 [==============================] - 100s 212ms/step - d_loss: 0.2664 - g_loss: 2.6078\n",
      "Epoch 336/400\n",
      "469/469 [==============================] - 100s 212ms/step - d_loss: 0.2659 - g_loss: 2.6169\n",
      "Epoch 337/400\n",
      "469/469 [==============================] - 100s 212ms/step - d_loss: 0.2664 - g_loss: 2.6173\n",
      "Epoch 338/400\n",
      "469/469 [==============================] - 100s 212ms/step - d_loss: 0.2668 - g_loss: 2.6064\n",
      "Epoch 339/400\n",
      "469/469 [==============================] - 100s 212ms/step - d_loss: 0.2665 - g_loss: 2.6082\n",
      "Epoch 340/400\n",
      "469/469 [==============================] - 99s 212ms/step - d_loss: 0.2670 - g_loss: 2.6075\n",
      "Epoch 341/400\n",
      "469/469 [==============================] - 99s 212ms/step - d_loss: 0.2662 - g_loss: 2.6148\n",
      "Epoch 342/400\n",
      "469/469 [==============================] - 100s 212ms/step - d_loss: 0.2663 - g_loss: 2.6128\n",
      "Epoch 343/400\n",
      "469/469 [==============================] - 99s 212ms/step - d_loss: 0.2662 - g_loss: 2.6111\n",
      "Epoch 344/400\n",
      "469/469 [==============================] - 99s 212ms/step - d_loss: 0.2668 - g_loss: 2.6098\n",
      "Epoch 345/400\n",
      "469/469 [==============================] - 100s 212ms/step - d_loss: 0.2665 - g_loss: 2.6105\n",
      "Epoch 346/400\n",
      "469/469 [==============================] - 100s 212ms/step - d_loss: 0.2664 - g_loss: 2.6102\n",
      "Epoch 347/400\n",
      "469/469 [==============================] - 100s 212ms/step - d_loss: 0.2662 - g_loss: 2.6129\n",
      "Epoch 348/400\n",
      "469/469 [==============================] - 100s 212ms/step - d_loss: 0.2661 - g_loss: 2.6039\n",
      "Epoch 349/400\n",
      "469/469 [==============================] - 99s 212ms/step - d_loss: 0.2662 - g_loss: 2.6080\n",
      "Epoch 350/400\n",
      "469/469 [==============================] - 99s 212ms/step - d_loss: 0.2660 - g_loss: 2.6118\n",
      "Epoch 351/400\n",
      "469/469 [==============================] - 99s 212ms/step - d_loss: 0.2664 - g_loss: 2.6093\n",
      "Epoch 352/400\n",
      "469/469 [==============================] - 99s 212ms/step - d_loss: 0.2665 - g_loss: 2.6031\n",
      "Epoch 353/400\n",
      "469/469 [==============================] - 99s 212ms/step - d_loss: 0.2661 - g_loss: 2.6056\n",
      "Epoch 354/400\n",
      "469/469 [==============================] - 99s 212ms/step - d_loss: 0.2667 - g_loss: 2.6075\n",
      "Epoch 355/400\n",
      "469/469 [==============================] - 99s 212ms/step - d_loss: 0.2664 - g_loss: 2.6159\n",
      "Epoch 356/400\n",
      "469/469 [==============================] - 99s 212ms/step - d_loss: 0.2669 - g_loss: 2.6144\n",
      "Epoch 357/400\n",
      "469/469 [==============================] - 100s 212ms/step - d_loss: 0.2662 - g_loss: 2.6123\n",
      "Epoch 358/400\n",
      "469/469 [==============================] - 99s 212ms/step - d_loss: 0.2662 - g_loss: 2.6112\n",
      "Epoch 359/400\n",
      "469/469 [==============================] - 99s 212ms/step - d_loss: 0.2669 - g_loss: 2.6081\n",
      "Epoch 360/400\n",
      "469/469 [==============================] - 99s 212ms/step - d_loss: 0.2664 - g_loss: 2.6098\n",
      "Epoch 361/400\n",
      "469/469 [==============================] - 99s 212ms/step - d_loss: 0.2666 - g_loss: 2.6128\n",
      "Epoch 362/400\n",
      "469/469 [==============================] - 99s 212ms/step - d_loss: 0.2667 - g_loss: 2.6093\n",
      "Epoch 363/400\n",
      "469/469 [==============================] - 99s 212ms/step - d_loss: 0.2666 - g_loss: 2.6036\n",
      "Epoch 364/400\n",
      "469/469 [==============================] - 99s 212ms/step - d_loss: 0.2665 - g_loss: 2.6103\n",
      "Epoch 365/400\n",
      "469/469 [==============================] - 99s 212ms/step - d_loss: 0.2662 - g_loss: 2.6074\n",
      "Epoch 366/400\n",
      "469/469 [==============================] - 99s 212ms/step - d_loss: 0.2663 - g_loss: 2.6137\n",
      "Epoch 367/400\n",
      "469/469 [==============================] - 99s 212ms/step - d_loss: 0.2665 - g_loss: 2.6121\n",
      "Epoch 368/400\n",
      "469/469 [==============================] - 99s 212ms/step - d_loss: 0.2667 - g_loss: 2.6146\n",
      "Epoch 369/400\n",
      "469/469 [==============================] - 99s 212ms/step - d_loss: 0.2666 - g_loss: 2.6077\n",
      "Epoch 370/400\n",
      "469/469 [==============================] - 99s 212ms/step - d_loss: 0.2668 - g_loss: 2.6035\n",
      "Epoch 371/400\n",
      "469/469 [==============================] - 99s 212ms/step - d_loss: 0.2669 - g_loss: 2.6116\n",
      "Epoch 372/400\n",
      "469/469 [==============================] - 99s 212ms/step - d_loss: 0.2662 - g_loss: 2.6081\n",
      "Epoch 373/400\n",
      "469/469 [==============================] - 99s 212ms/step - d_loss: 0.2666 - g_loss: 2.6104\n",
      "Epoch 374/400\n",
      "469/469 [==============================] - 99s 212ms/step - d_loss: 0.2660 - g_loss: 2.6118\n",
      "Epoch 375/400\n",
      "469/469 [==============================] - 99s 212ms/step - d_loss: 0.2667 - g_loss: 2.6051\n",
      "Epoch 376/400\n",
      "469/469 [==============================] - 100s 212ms/step - d_loss: 0.2663 - g_loss: 2.6097\n",
      "Epoch 377/400\n",
      "469/469 [==============================] - 99s 212ms/step - d_loss: 0.2666 - g_loss: 2.6138\n",
      "Epoch 378/400\n",
      "469/469 [==============================] - 99s 211ms/step - d_loss: 0.2661 - g_loss: 2.6183\n",
      "Epoch 379/400\n",
      "469/469 [==============================] - 99s 211ms/step - d_loss: 0.2662 - g_loss: 2.6144\n",
      "Epoch 380/400\n",
      "469/469 [==============================] - 99s 212ms/step - d_loss: 0.2667 - g_loss: 2.6082\n",
      "Epoch 381/400\n",
      "469/469 [==============================] - 99s 212ms/step - d_loss: 0.2667 - g_loss: 2.6082\n",
      "Epoch 382/400\n",
      "469/469 [==============================] - 99s 212ms/step - d_loss: 0.2667 - g_loss: 2.6127\n",
      "Epoch 383/400\n",
      "469/469 [==============================] - 99s 212ms/step - d_loss: 0.2666 - g_loss: 2.6107\n",
      "Epoch 384/400\n"
     ]
    },
    {
     "name": "stdout",
     "output_type": "stream",
     "text": [
      "469/469 [==============================] - 99s 212ms/step - d_loss: 0.2664 - g_loss: 2.6110\n",
      "Epoch 385/400\n",
      "469/469 [==============================] - 99s 212ms/step - d_loss: 0.2667 - g_loss: 2.6169\n",
      "Epoch 386/400\n",
      "469/469 [==============================] - 99s 212ms/step - d_loss: 0.2661 - g_loss: 2.6208\n",
      "Epoch 387/400\n",
      "469/469 [==============================] - 99s 212ms/step - d_loss: 0.2666 - g_loss: 2.6119\n",
      "Epoch 388/400\n",
      "469/469 [==============================] - 100s 213ms/step - d_loss: 0.2663 - g_loss: 2.6050\n",
      "Epoch 389/400\n",
      "469/469 [==============================] - 100s 214ms/step - d_loss: 0.2669 - g_loss: 2.6125\n",
      "Epoch 390/400\n",
      "469/469 [==============================] - 100s 214ms/step - d_loss: 0.2665 - g_loss: 2.6157\n",
      "Epoch 391/400\n",
      "469/469 [==============================] - 100s 214ms/step - d_loss: 0.2665 - g_loss: 2.6126\n",
      "Epoch 392/400\n",
      "469/469 [==============================] - 100s 214ms/step - d_loss: 0.2664 - g_loss: 2.6182\n",
      "Epoch 393/400\n",
      "469/469 [==============================] - 101s 214ms/step - d_loss: 0.2670 - g_loss: 2.6149\n",
      "Epoch 394/400\n",
      "469/469 [==============================] - 100s 213ms/step - d_loss: 0.2661 - g_loss: 2.6167\n",
      "Epoch 395/400\n",
      "469/469 [==============================] - 100s 213ms/step - d_loss: 0.2664 - g_loss: 2.6102\n",
      "Epoch 396/400\n",
      "469/469 [==============================] - 100s 213ms/step - d_loss: 0.2661 - g_loss: 2.6146\n",
      "Epoch 397/400\n",
      "469/469 [==============================] - 100s 213ms/step - d_loss: 0.2669 - g_loss: 2.6121\n",
      "Epoch 398/400\n",
      "469/469 [==============================] - 100s 213ms/step - d_loss: 0.2662 - g_loss: 2.6081\n",
      "Epoch 399/400\n",
      "469/469 [==============================] - 100s 214ms/step - d_loss: 0.2667 - g_loss: 2.6134\n",
      "Epoch 400/400\n",
      "469/469 [==============================] - 100s 214ms/step - d_loss: 0.2669 - g_loss: 2.6070\n"
     ]
    }
   ],
   "source": [
    "hist = fashgan.fit(ds, epochs=400, callbacks=[ModelMonitor()])"
   ]
  },
  {
   "cell_type": "code",
   "execution_count": 97,
   "id": "183ef70b",
   "metadata": {},
   "outputs": [
    {
     "data": {
      "text/plain": [
       "[<matplotlib.lines.Line2D at 0x1e04ad0ef20>]"
      ]
     },
     "execution_count": 97,
     "metadata": {},
     "output_type": "execute_result"
    },
    {
     "data": {
      "image/png": "[encoded data removed]",
      "text/plain": [
       "<Figure size 640x480 with 1 Axes>"
      ]
     },
     "metadata": {},
     "output_type": "display_data"
    }
   ],
   "source": [
    "plt.plot(hist.history['g_loss'], label='g_loss')\n",
    "plt.plot(hist.history['d_loss'], label='d_loss')"
   ]
  },
  {
   "cell_type": "code",
   "execution_count": 99,
   "id": "9eda1839",
   "metadata": {},
   "outputs": [
    {
     "name": "stdout",
     "output_type": "stream",
     "text": [
      "1/1 [==============================] - 0s 30ms/step\n"
     ]
    },
    {
     "data": {
      "text/plain": [
       "(16, 28, 28, 1)"
      ]
     },
     "execution_count": 99,
     "metadata": {},
     "output_type": "execute_result"
    }
   ],
   "source": [
    "imgs = generator.predict(tf.random.normal((16,128,1)))\n",
    "imgs.shape"
   ]
  },
  {
   "cell_type": "markdown",
   "id": "6c3b68df",
   "metadata": {},
   "source": [
    "### Generated Images after 700 Epochs"
   ]
  },
  {
   "cell_type": "code",
   "execution_count": 102,
   "id": "0e780fde",
   "metadata": {},
   "outputs": [
    {
     "data": {
      "image/png": "[encoded data removed]",
      "text/plain": [
       "<Figure size 2000x2000 with 16 Axes>"
      ]
     },
     "metadata": {},
     "output_type": "display_data"
    }
   ],
   "source": [
    "fig,ax = plt.subplots(ncols=4, nrows = 4, figsize=(20,20))\n",
    "for r in range(4):\n",
    "    for c in range(4):\n",
    "        ax[r][c].imshow(imgs[(r+1)*(c+1)-1], cmap='gray')"
   ]
  },
  {
   "cell_type": "code",
   "execution_count": 101,
   "id": "b5639495",
   "metadata": {},
   "outputs": [
    {
     "name": "stdout",
     "output_type": "stream",
     "text": [
      "WARNING:tensorflow:Compiled the loaded model, but the compiled metrics have yet to be built. `model.compile_metrics` will be empty until you train or evaluate the model.\n"
     ]
    },
    {
     "name": "stderr",
     "output_type": "stream",
     "text": [
      "WARNING:tensorflow:Compiled the loaded model, but the compiled metrics have yet to be built. `model.compile_metrics` will be empty until you train or evaluate the model.\n"
     ]
    },
    {
     "name": "stdout",
     "output_type": "stream",
     "text": [
      "WARNING:tensorflow:Compiled the loaded model, but the compiled metrics have yet to be built. `model.compile_metrics` will be empty until you train or evaluate the model.\n"
     ]
    },
    {
     "name": "stderr",
     "output_type": "stream",
     "text": [
      "WARNING:tensorflow:Compiled the loaded model, but the compiled metrics have yet to be built. `model.compile_metrics` will be empty until you train or evaluate the model.\n"
     ]
    }
   ],
   "source": [
    "generator.save('generator_20.h5')\n",
    "discriminator.save('discriminator_20.h5')"
   ]
  },
  {
   "cell_type": "code",
   "execution_count": null,
   "id": "05324eac",
   "metadata": {},
   "outputs": [],
   "source": []
  },
  {
   "cell_type": "code",
   "execution_count": null,
   "id": "ba9e9e53",
   "metadata": {},
   "outputs": [],
   "source": []
  },
  {
   "cell_type": "markdown",
   "id": "3469047d",
   "metadata": {},
   "source": [
    "### Steps for taken for multiple training"
   ]
  },
  {
   "cell_type": "code",
   "execution_count": 103,
   "id": "c029137b",
   "metadata": {},
   "outputs": [
    {
     "ename": "ValueError",
     "evalue": "axes don't match array",
     "output_type": "error",
     "traceback": [
      "\u001b[1;31m---------------------------------------------------------------------------\u001b[0m",
      "\u001b[1;31mValueError\u001b[0m                                Traceback (most recent call last)",
      "Cell \u001b[1;32mIn[103], line 1\u001b[0m\n\u001b[1;32m----> 1\u001b[0m generator_finished  \u001b[38;5;241m=\u001b[39m \u001b[43mgenerator\u001b[49m\u001b[38;5;241;43m.\u001b[39;49m\u001b[43mload_weights\u001b[49m\u001b[43m(\u001b[49m\u001b[38;5;124;43m'\u001b[39;49m\u001b[38;5;124;43mgeneratormodel.h5\u001b[39;49m\u001b[38;5;124;43m'\u001b[39;49m\u001b[43m)\u001b[49m\n",
      "File \u001b[1;32m~\\anaconda3\\lib\\site-packages\\keras\\utils\\traceback_utils.py:70\u001b[0m, in \u001b[0;36mfilter_traceback.<locals>.error_handler\u001b[1;34m(*args, **kwargs)\u001b[0m\n\u001b[0;32m     67\u001b[0m     filtered_tb \u001b[38;5;241m=\u001b[39m _process_traceback_frames(e\u001b[38;5;241m.\u001b[39m__traceback__)\n\u001b[0;32m     68\u001b[0m     \u001b[38;5;66;03m# To get the full stack trace, call:\u001b[39;00m\n\u001b[0;32m     69\u001b[0m     \u001b[38;5;66;03m# `tf.debugging.disable_traceback_filtering()`\u001b[39;00m\n\u001b[1;32m---> 70\u001b[0m     \u001b[38;5;28;01mraise\u001b[39;00m e\u001b[38;5;241m.\u001b[39mwith_traceback(filtered_tb) \u001b[38;5;28;01mfrom\u001b[39;00m \u001b[38;5;28mNone\u001b[39m\n\u001b[0;32m     71\u001b[0m \u001b[38;5;28;01mfinally\u001b[39;00m:\n\u001b[0;32m     72\u001b[0m     \u001b[38;5;28;01mdel\u001b[39;00m filtered_tb\n",
      "File \u001b[1;32m<__array_function__ internals>:180\u001b[0m, in \u001b[0;36mtranspose\u001b[1;34m(*args, **kwargs)\u001b[0m\n",
      "File \u001b[1;32m~\\anaconda3\\lib\\site-packages\\numpy\\core\\fromnumeric.py:660\u001b[0m, in \u001b[0;36mtranspose\u001b[1;34m(a, axes)\u001b[0m\n\u001b[0;32m    601\u001b[0m \u001b[38;5;129m@array_function_dispatch\u001b[39m(_transpose_dispatcher)\n\u001b[0;32m    602\u001b[0m \u001b[38;5;28;01mdef\u001b[39;00m \u001b[38;5;21mtranspose\u001b[39m(a, axes\u001b[38;5;241m=\u001b[39m\u001b[38;5;28;01mNone\u001b[39;00m):\n\u001b[0;32m    603\u001b[0m     \u001b[38;5;124;03m\"\"\"\u001b[39;00m\n\u001b[0;32m    604\u001b[0m \u001b[38;5;124;03m    Reverse or permute the axes of an array; returns the modified array.\u001b[39;00m\n\u001b[0;32m    605\u001b[0m \n\u001b[1;32m   (...)\u001b[0m\n\u001b[0;32m    658\u001b[0m \n\u001b[0;32m    659\u001b[0m \u001b[38;5;124;03m    \"\"\"\u001b[39;00m\n\u001b[1;32m--> 660\u001b[0m     \u001b[38;5;28;01mreturn\u001b[39;00m \u001b[43m_wrapfunc\u001b[49m\u001b[43m(\u001b[49m\u001b[43ma\u001b[49m\u001b[43m,\u001b[49m\u001b[43m \u001b[49m\u001b[38;5;124;43m'\u001b[39;49m\u001b[38;5;124;43mtranspose\u001b[39;49m\u001b[38;5;124;43m'\u001b[39;49m\u001b[43m,\u001b[49m\u001b[43m \u001b[49m\u001b[43maxes\u001b[49m\u001b[43m)\u001b[49m\n",
      "File \u001b[1;32m~\\anaconda3\\lib\\site-packages\\numpy\\core\\fromnumeric.py:57\u001b[0m, in \u001b[0;36m_wrapfunc\u001b[1;34m(obj, method, *args, **kwds)\u001b[0m\n\u001b[0;32m     54\u001b[0m     \u001b[38;5;28;01mreturn\u001b[39;00m _wrapit(obj, method, \u001b[38;5;241m*\u001b[39margs, \u001b[38;5;241m*\u001b[39m\u001b[38;5;241m*\u001b[39mkwds)\n\u001b[0;32m     56\u001b[0m \u001b[38;5;28;01mtry\u001b[39;00m:\n\u001b[1;32m---> 57\u001b[0m     \u001b[38;5;28;01mreturn\u001b[39;00m bound(\u001b[38;5;241m*\u001b[39margs, \u001b[38;5;241m*\u001b[39m\u001b[38;5;241m*\u001b[39mkwds)\n\u001b[0;32m     58\u001b[0m \u001b[38;5;28;01mexcept\u001b[39;00m \u001b[38;5;167;01mTypeError\u001b[39;00m:\n\u001b[0;32m     59\u001b[0m     \u001b[38;5;66;03m# A TypeError occurs if the object does have such a method in its\u001b[39;00m\n\u001b[0;32m     60\u001b[0m     \u001b[38;5;66;03m# class, but its signature is not identical to that of NumPy's. This\u001b[39;00m\n\u001b[1;32m   (...)\u001b[0m\n\u001b[0;32m     64\u001b[0m     \u001b[38;5;66;03m# Call _wrapit from within the except clause to ensure a potential\u001b[39;00m\n\u001b[0;32m     65\u001b[0m     \u001b[38;5;66;03m# exception has a traceback chain.\u001b[39;00m\n\u001b[0;32m     66\u001b[0m     \u001b[38;5;28;01mreturn\u001b[39;00m _wrapit(obj, method, \u001b[38;5;241m*\u001b[39margs, \u001b[38;5;241m*\u001b[39m\u001b[38;5;241m*\u001b[39mkwds)\n",
      "\u001b[1;31mValueError\u001b[0m: axes don't match array"
     ]
    }
   ],
   "source": []
  },
  {
   "cell_type": "code",
   "execution_count": 64,
   "id": "22deca82",
   "metadata": {},
   "outputs": [
    {
     "name": "stdout",
     "output_type": "stream",
     "text": [
      "1/1 [==============================] - 0s 291ms/step\n"
     ]
    },
    {
     "data": {
      "text/plain": [
       "(16, 28, 28, 1)"
      ]
     },
     "execution_count": 64,
     "metadata": {},
     "output_type": "execute_result"
    }
   ],
   "source": []
  },
  {
   "cell_type": "code",
   "execution_count": 65,
   "id": "97cd0dd3",
   "metadata": {},
   "outputs": [
    {
     "data": {
      "image/png": "[encoded data removed]",
      "text/plain": [
       "<Figure size 2000x2000 with 16 Axes>"
      ]
     },
     "metadata": {},
     "output_type": "display_data"
    }
   ],
   "source": [
    "fig,ax = plt.subplots(ncols=4, nrows = 4, figsize=(20,20))\n",
    "for r in range(4):\n",
    "    for c in range(4):\n",
    "        ax[r][c].imshow(imgs[(r+1)*(c+1)-1], cmap='gray')"
   ]
  },
  {
   "cell_type": "code",
   "execution_count": 45,
   "id": "6c844ea7",
   "metadata": {},
   "outputs": [
    {
     "name": "stdout",
     "output_type": "stream",
     "text": [
      "WARNING:tensorflow:Compiled the loaded model, but the compiled metrics have yet to be built. `model.compile_metrics` will be empty until you train or evaluate the model.\n"
     ]
    },
    {
     "name": "stderr",
     "output_type": "stream",
     "text": [
      "WARNING:tensorflow:Compiled the loaded model, but the compiled metrics have yet to be built. `model.compile_metrics` will be empty until you train or evaluate the model.\n"
     ]
    },
    {
     "name": "stdout",
     "output_type": "stream",
     "text": [
      "WARNING:tensorflow:Compiled the loaded model, but the compiled metrics have yet to be built. `model.compile_metrics` will be empty until you train or evaluate the model.\n"
     ]
    },
    {
     "name": "stderr",
     "output_type": "stream",
     "text": [
      "WARNING:tensorflow:Compiled the loaded model, but the compiled metrics have yet to be built. `model.compile_metrics` will be empty until you train or evaluate the model.\n"
     ]
    }
   ],
   "source": []
  },
  {
   "cell_type": "code",
   "execution_count": null,
   "id": "d83975c9",
   "metadata": {},
   "outputs": [],
   "source": []
  }
 ],
 "metadata": {
  "kernelspec": {
   "display_name": "Python 3 (ipykernel)",
   "language": "python",
   "name": "python3"
  },
  "language_info": {
   "codemirror_mode": {
    "name": "ipython",
    "version": 3
   },
   "file_extension": ".py",
   "mimetype": "text/x-python",
   "name": "python",
   "nbconvert_exporter": "python",
   "pygments_lexer": "ipython3",
   "version": "3.10.9"
  }
 },
 "nbformat": 4,
 "nbformat_minor": 5
}
